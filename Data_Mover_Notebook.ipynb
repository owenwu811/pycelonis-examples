{
 "cells": [
  {
   "cell_type": "markdown",
   "metadata": {},
   "source": [
    "# Data Mover Notebook (Generalized Version)\n",
    "## Prerequisites:\n",
    "- Python 3.8\n",
    "- PyCelonis 2.0 or later"
   ]
  },
  {
   "cell_type": "code",
   "execution_count": 11,
   "metadata": {},
   "outputs": [
    {
     "name": "stdout",
     "output_type": "stream",
     "text": [
      "\u001b[33mDEPRECATION: Configuring installation scheme with distutils config files is deprecated and will no longer work in the near future. If you are using a Homebrew or Linuxbrew Python, please see discussion at https://github.com/Homebrew/homebrew-core/issues/76621\u001b[0m\u001b[33m\n",
      "\u001b[0mRequirement already satisfied: pip in /opt/homebrew/lib/python3.8/site-packages (24.3.1)\n",
      "\u001b[33mDEPRECATION: Configuring installation scheme with distutils config files is deprecated and will no longer work in the near future. If you are using a Homebrew or Linuxbrew Python, please see discussion at https://github.com/Homebrew/homebrew-core/issues/76621\u001b[0m\u001b[33m\n",
      "\u001b[0m\u001b[33mDEPRECATION: Configuring installation scheme with distutils config files is deprecated and will no longer work in the near future. If you are using a Homebrew or Linuxbrew Python, please see discussion at https://github.com/Homebrew/homebrew-core/issues/76621\u001b[0m\u001b[33m\n",
      "\u001b[0m\u001b[31mERROR: Could not find a version that satisfies the requirement pycelonis (from versions: none)\u001b[0m\u001b[31m\n",
      "\u001b[0m\u001b[31mERROR: No matching distribution found for pycelonis\u001b[0m\u001b[31m\n",
      "\u001b[0mPyCelonis version: 2.11.0\n"
     ]
    }
   ],
   "source": [
    "# Install and import required packages\n",
    "!python3.8 -m pip install --upgrade pip #run this command inside of your terminal\n",
    "!pip install --upgrade pycelonis\n",
    "\n",
    "from pathlib import Path #import Path class from pathlib module (part of standard library)\n",
    "from pycelonis import get_celonis #import the get)celonis() method from pycelonis package\n",
    "from pycelonis.pql import PQL, PQLColumn #PQL and PQLColumn classes imported from pycelonis.pql package path\n",
    "from pycelonis.ems import ExportType, JobType\n",
    "import os #library from core python\n",
    "\n",
    "# Verify PyCelonis version\n",
    "import pycelonis\n",
    "print(\"PyCelonis version:\", pycelonis.__version__)\n"
   ]
  },
  {
   "cell_type": "markdown",
   "metadata": {},
   "source": [
    "## Step 1: Define Environment Variables\n",
    "Replace the placeholders with your own details for the source and target environments.\n"
   ]
  },
  {
   "cell_type": "code",
   "execution_count": 16,
   "metadata": {},
   "outputs": [
    {
     "name": "stdout",
     "output_type": "stream",
     "text": [
      "Data directory: /Users/o.wu/Desktop/datamoverproject/data\n"
     ]
    }
   ],
   "source": [
    "\n",
    "\n",
    "import os, json\n",
    "from pycelonis import get_celonis\n",
    "from pathlib import Path\n",
    "\n",
    "# Load configuration from JSON file\n",
    "config_path = Path(\"config.json\")\n",
    "if config_path.is_file():\n",
    "    with open(config_path) as f:\n",
    "        config = json.load(f)\n",
    "else:\n",
    "    raise FileNotFoundError(\"Configuration file 'config.json' not found in the current directory.\")\n",
    "\n",
    "# Fetch values from config file, throw error if any required field is missing\n",
    "try:\n",
    "    source_data_pool_id = config[\"source_data_pool_id\"]\n",
    "    source_data_model_id = config[\"source_data_model_id\"]\n",
    "    source_url = config[\"source_url\"]\n",
    "    source_api_token = config[\"source_api_token\"]\n",
    "\n",
    "\n",
    "    data_dir = Path(config.get(\"data_dir\", Path().resolve() / \"data\"))\n",
    "except KeyError as e:\n",
    "    raise KeyError(f\"Missing required configuration key: {e}\")\n",
    "\n",
    "print(f\"Data directory: {data_dir}\")\n",
    "\n",
    "# Automatically create the data directory if it doesn't exist\n",
    "data_dir.mkdir(parents=True, exist_ok=True)\n",
    "\n",
    "\n",
    "\n",
    "\n"
   ]
  },
  {
   "cell_type": "markdown",
   "metadata": {},
   "source": [
    "## Step 2: Download data from source environment\n"
   ]
  },
  {
   "cell_type": "code",
   "execution_count": 17,
   "metadata": {},
   "outputs": [
    {
     "name": "stderr",
     "output_type": "stream",
     "text": [
      "Your PyCelonis Version 2.11.0 is outdated (Newest Version: 2.11.1). Please upgrade the package via: pip install --extra-index-url=https://pypi.celonis.cloud/ pycelonis pycelonis_core --upgrade\n"
     ]
    },
    {
     "name": "stdout",
     "output_type": "stream",
     "text": [
      "Tables in this datamodel:\n",
      "air_quality_no2\n"
     ]
    }
   ],
   "source": [
    "celonis_from = get_celonis(base_url = source_url, api_token = source_api_token, permissions=False, key_type='APP_KEY') #, key_type='USER_KEY'\n",
    "datapool_from = celonis_from.data_integration.get_data_pool(source_data_pool_id)\n",
    "datamodel_from = datapool_from.get_data_model(source_data_model_id)\n",
    "datamodel_from_tables = datamodel_from.get_tables()\n",
    "\n",
    "print(\"Tables in this datamodel:\")\n",
    "\n",
    "#for i in range(len(datamodel_from_tables)):\n",
    "#print(table[i].name) dosent work\n",
    "for table in datamodel_from_tables:\n",
    "    #print(type(table))\n",
    "    print(table.name) \n",
    "\n"
   ]
  },
  {
   "cell_type": "markdown",
   "metadata": {},
   "source": [
    "## Step 3: Insert the tables you want to download"
   ]
  },
  {
   "cell_type": "code",
   "execution_count": 19,
   "metadata": {},
   "outputs": [
    {
     "name": "stdout",
     "output_type": "stream",
     "text": [
      "Added table:  air_quality_no2\n",
      "name='DATETIME' length=26 type_='DATE' client=<pycelonis_core.client.client.Client object at 0x12387e760> data_pool_id='7873300c-ba33-4c61-ac8f-4d912f7c0312' data_model_id='cd425ef4-6815-4360-b155-388d54eea294' table_name='air_quality_no2' table_alias=None\n",
      "name='STATION_ANTWERP' length=15 type_='FLOAT' client=<pycelonis_core.client.client.Client object at 0x12387e760> data_pool_id='7873300c-ba33-4c61-ac8f-4d912f7c0312' data_model_id='cd425ef4-6815-4360-b155-388d54eea294' table_name='air_quality_no2' table_alias=None\n",
      "name='STATION_PARIS' length=15 type_='FLOAT' client=<pycelonis_core.client.client.Client object at 0x12387e760> data_pool_id='7873300c-ba33-4c61-ac8f-4d912f7c0312' data_model_id='cd425ef4-6815-4360-b155-388d54eea294' table_name='air_quality_no2' table_alias=None\n",
      "name='STATION_LONDON' length=15 type_='FLOAT' client=<pycelonis_core.client.client.Client object at 0x12387e760> data_pool_id='7873300c-ba33-4c61-ac8f-4d912f7c0312' data_model_id='cd425ef4-6815-4360-b155-388d54eea294' table_name='air_quality_no2' table_alias=None\n",
      "name='_CELONIS_CHANGE_DATE' length=23 type_='DATE' client=<pycelonis_core.client.client.Client object at 0x12387e760> data_pool_id='7873300c-ba33-4c61-ac8f-4d912f7c0312' data_model_id='cd425ef4-6815-4360-b155-388d54eea294' table_name='air_quality_no2' table_alias=None\n",
      "Downloaded table: air_quality_no2, chunk: 0\n"
     ]
    }
   ],
   "source": [
    "#tables_from = [\"air_quality_no2\"] #---- insert tables you want download from the datamodel -- (separated by '', '', ....etc)\n",
    "#tables_from_detail = []\n",
    "\n",
    "#for i,y in enumerate(tables_from):\n",
    "#    tables_from_detail.append(datamodel_from_tables.find(y))\n",
    "#    print(\"Added table: \",tables_from_detail[i].name)\n",
    "\n",
    "# Function to download data from source and save it locally as Parquet files\n",
    "#def download_table_data(table):\n",
    "#    table_name = table.name\n",
    "#    query = PQL(distinct=False, limit=None)\n",
    "#    for column in table.get_columns():\n",
    "#        print(column)\n",
    "#        col_name = column.name\n",
    "#        if col_name != '_CELONIS_CHANGE_DATE':\n",
    "#            query += PQLColumn(name=col_name, query=f'\"{table_name}\".\"{col_name}\"')\n",
    "\n",
    "    # Create export and download data as Parquet files\n",
    "#    data_export = datamodel_from.create_data_export(query=query, export_type=ExportType.PARQUET)\n",
    "#    data_export.wait_for_execution()\n",
    "\n",
    "#    for i, chunk in enumerate(data_export.get_chunks()): #index, object itself\n",
    "#        file_path = data_dir / f\"{table_name}_{i}.parquet\"\n",
    "#        with open(file_path, \"wb\") as file:\n",
    "#            file.write(chunk.read())\n",
    "#        print(f\"Downloaded table: {table_name}, chunk: {i}\")\n",
    "#\n",
    "#for table in tables_from_detail:\n",
    "#    download_table_data(table)\n",
    "\n",
    "import json\n",
    "from pathlib import Path\n",
    "\n",
    "# Load table names from tables_to_download.json\n",
    "\n",
    "#steps:\n",
    "\n",
    "#1. create a file.json in the same directory with a different name from step above\n",
    "\n",
    "with open(\"tables_to_download.json\", \"r\") as file:\n",
    "    config = json.load(file)\n",
    "    tables_from = config[\"table_names\"]\n",
    "\n",
    "tables_from_detail = []\n",
    "\n",
    "# Find the tables in the datamodel and append details to tables_from_detail array\n",
    "for i, Table in enumerate(tables_from):\n",
    "    table = datamodel_from_tables.find(Table)\n",
    "    if table:\n",
    "        tables_from_detail.append(table)\n",
    "        print(\"Added table: \", table.name)\n",
    "    else:\n",
    "        print(f\"Table '{Table}' not found in datamodel.\")\n",
    "\n",
    "# Directory for saving downloaded parquet files\n",
    "data_dir = Path(\"./data\")  # Define or modify as needed\n",
    "data_dir.mkdir(parents=True, exist_ok=True)\n",
    "\n",
    "# Function to download data from source and save it locally as Parquet files\n",
    "def download_table_data(table):\n",
    "    table_name = table.name\n",
    "    query = PQL(distinct=False, limit=None)\n",
    "    for column in table.get_columns():\n",
    "        print(column)\n",
    "        col_name = column.name\n",
    "        if col_name != '_CELONIS_CHANGE_DATE':\n",
    "            query += PQLColumn(name=col_name, query=f'\"{table_name}\".\"{col_name}\"')\n",
    "\n",
    "    # Create export and download data as Parquet files\n",
    "    data_export = datamodel_from.create_data_export(query=query, export_type=ExportType.PARQUET)\n",
    "    data_export.wait_for_execution()\n",
    "\n",
    "    for i, chunk in enumerate(data_export.get_chunks()):  # index, object itself - loop through data_export object\n",
    "        file_path = data_dir / f\"{table_name}_{i}.parquet\"\n",
    "        with open(file_path, \"wb\") as file:\n",
    "            file.write(chunk.read())\n",
    "        print(f\"Downloaded table: {table_name}, chunk: {i}\")\n",
    "\n",
    "# Download data for each table in tables_from_detail\n",
    "for table in tables_from_detail:\n",
    "    download_table_data(table) \n"
   ]
  },
  {
   "cell_type": "markdown",
   "metadata": {},
   "source": [
    "## Step 6: Upload Data to Target Environment\n"
   ]
  },
  {
   "cell_type": "code",
   "execution_count": 15,
   "metadata": {},
   "outputs": [
    {
     "ename": "NameError",
     "evalue": "name 'datapool_to' is not defined",
     "output_type": "error",
     "traceback": [
      "\u001b[0;31m---------------------------------------------------------------------------\u001b[0m",
      "\u001b[0;31mNameError\u001b[0m                                 Traceback (most recent call last)",
      "Cell \u001b[0;32mIn[15], line 16\u001b[0m\n\u001b[1;32m     13\u001b[0m     \u001b[38;5;28mprint\u001b[39m(\u001b[38;5;124mf\u001b[39m\u001b[38;5;124m\"\u001b[39m\u001b[38;5;124mUploaded table: \u001b[39m\u001b[38;5;132;01m{\u001b[39;00mtable_name\u001b[38;5;132;01m}\u001b[39;00m\u001b[38;5;124m\"\u001b[39m)\n\u001b[1;32m     15\u001b[0m \u001b[38;5;28;01mfor\u001b[39;00m file_name \u001b[38;5;129;01min\u001b[39;00m table_files:\n\u001b[0;32m---> 16\u001b[0m     \u001b[43mupload_table_data\u001b[49m\u001b[43m(\u001b[49m\u001b[43mfile_name\u001b[49m\u001b[43m)\u001b[49m\n",
      "Cell \u001b[0;32mIn[15], line 7\u001b[0m, in \u001b[0;36mupload_table_data\u001b[0;34m(file_name)\u001b[0m\n\u001b[1;32m      5\u001b[0m \u001b[38;5;28;01mdef\u001b[39;00m \u001b[38;5;21mupload_table_data\u001b[39m(file_name):\n\u001b[1;32m      6\u001b[0m     table_name \u001b[38;5;241m=\u001b[39m file_name\u001b[38;5;241m.\u001b[39msplit(\u001b[38;5;124m\"\u001b[39m\u001b[38;5;124m.\u001b[39m\u001b[38;5;124m\"\u001b[39m)[\u001b[38;5;241m0\u001b[39m]\n\u001b[0;32m----> 7\u001b[0m     data_push_job \u001b[38;5;241m=\u001b[39m \u001b[43mdatapool_to\u001b[49m\u001b[38;5;241m.\u001b[39mcreate_data_push_job(target_name\u001b[38;5;241m=\u001b[39mtable_name, type_\u001b[38;5;241m=\u001b[39mJobType\u001b[38;5;241m.\u001b[39mREPLACE)\n\u001b[1;32m      9\u001b[0m     \u001b[38;5;28;01mwith\u001b[39;00m \u001b[38;5;28mopen\u001b[39m(data_dir \u001b[38;5;241m/\u001b[39m file_name, \u001b[38;5;124m\"\u001b[39m\u001b[38;5;124mrb\u001b[39m\u001b[38;5;124m\"\u001b[39m) \u001b[38;5;28;01mas\u001b[39;00m file:\n\u001b[1;32m     10\u001b[0m         data_push_job\u001b[38;5;241m.\u001b[39madd_file_chunk(file)\n",
      "\u001b[0;31mNameError\u001b[0m: name 'datapool_to' is not defined"
     ]
    }
   ],
   "source": [
    "# List files to upload (ensure that only downloaded parquet files are included)\n",
    "table_files = [f for f in os.listdir(data_dir) if f.endswith('.parquet')]\n",
    "\n",
    "# Function to upload data to target environment\n",
    "def upload_table_data(file_name):\n",
    "    table_name = file_name.split(\".\")[0]\n",
    "    data_push_job = datapool_to.create_data_push_job(target_name=table_name, type_=JobType.REPLACE)\n",
    "\n",
    "    with open(data_dir / file_name, \"rb\") as file:\n",
    "        data_push_job.add_file_chunk(file)\n",
    "\n",
    "    data_push_job.execute(wait=True)\n",
    "    print(f\"Uploaded table: {table_name}\")\n",
    "\n",
    "for file_name in table_files:\n",
    "    upload_table_data(file_name)\n"
   ]
  },
  {
   "cell_type": "markdown",
   "metadata": {},
   "source": [
    "## Step 7: Add Uploaded Tables to Target Data Model (Optional)\n",
    "If a target data model is specified, add the tables to it.\n"
   ]
  },
  {
   "cell_type": "code",
   "execution_count": null,
   "metadata": {},
   "outputs": [],
   "source": [
    "if target_data_model_id: #if the target data model id exists and is not Null, then do the following\n",
    "    datamodel_to = datapool_to.get_data_model(target_data_model_id)\n",
    "    for file_name in table_files: #iterate over the table_files list\n",
    "        table_name = file_name.split(\".\")[0]\n",
    "        datamodel_to.add_table(name=table_name)\n",
    "    datamodel_to.reload()\n",
    "    print(\"Tables added to target data model and reloaded.\")\n"
   ]
  },
  {
   "cell_type": "markdown",
   "metadata": {},
   "source": [
    "## Notes\n",
    "- **User Instructions**: Update variables in each section as per your environment’s requirements.\n",
    "- **Modularity**: Functions for downloading and uploading tables improve reusability.\n",
    "- **Logs and Feedback**: Each major step includes feedback, so the user knows the status of each operation.\n"
   ]
  }
 ],
 "metadata": {
  "kernelspec": {
   "display_name": "Python 3 (ipykernel)",
   "language": "python",
   "name": "python3"
  },
  "language_info": {
   "codemirror_mode": {
    "name": "ipython",
    "version": 3
   },
   "file_extension": ".py",
   "mimetype": "text/x-python",
   "name": "python",
   "nbconvert_exporter": "python",
   "pygments_lexer": "ipython3",
   "version": "3.9.6"
  }
 },
 "nbformat": 4,
 "nbformat_minor": 4
}
