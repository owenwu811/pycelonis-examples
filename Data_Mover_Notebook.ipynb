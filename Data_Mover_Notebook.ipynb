{
 "cells": [
  {
   "cell_type": "markdown",
   "metadata": {},
   "source": [
    "# Data Mover Notebook \n",
    "## Prerequisites:\n",
    "- Python 3.8\n",
    "- PyCelonis 2.0 or later"
   ]
  },
  {
   "cell_type": "code",
   "execution_count": 14,
   "metadata": {},
   "outputs": [
    {
     "name": "stdout",
     "output_type": "stream",
     "text": [
      "\u001b[33mDEPRECATION: Configuring installation scheme with distutils config files is deprecated and will no longer work in the near future. If you are using a Homebrew or Linuxbrew Python, please see discussion at https://github.com/Homebrew/homebrew-core/issues/76621\u001b[0m\u001b[33m\n",
      "\u001b[0mRequirement already satisfied: pip in /opt/homebrew/lib/python3.8/site-packages (24.3.1)\n",
      "\u001b[33mDEPRECATION: Configuring installation scheme with distutils config files is deprecated and will no longer work in the near future. If you are using a Homebrew or Linuxbrew Python, please see discussion at https://github.com/Homebrew/homebrew-core/issues/76621\u001b[0m\u001b[33m\n",
      "\u001b[0m\u001b[33mDEPRECATION: Configuring installation scheme with distutils config files is deprecated and will no longer work in the near future. If you are using a Homebrew or Linuxbrew Python, please see discussion at https://github.com/Homebrew/homebrew-core/issues/76621\u001b[0m\u001b[33m\n",
      "\u001b[0m\u001b[31mERROR: Could not find a version that satisfies the requirement pycelonis (from versions: none)\u001b[0m\u001b[31m\n",
      "\u001b[0m\u001b[31mERROR: No matching distribution found for pycelonis\u001b[0m\u001b[31m\n",
      "\u001b[0mPyCelonis version: 2.11.0\n"
     ]
    }
   ],
   "source": [
    "#Please Note: If you see the following error in your console after each exercise, you may simply ignore it:\n",
    "\n",
    "#Your PyCelonis Version 2.11.0 is outdated (Newest Version: 2.11.1). Please upgrade the package via: pip install --extra-index-url=https://pypi.celonis.cloud/ pycelonis pycelonis_core --upgrade\n",
    "\n",
    "\n",
    "#Steps for this module\n",
    "\n",
    "#1.run the following command inside of your terminal - !python3.8 -m pip install --upgrade pip \n",
    "\n",
    "!python3.8 -m pip install --upgrade pip \n",
    "!pip install --upgrade pycelonis\n",
    "\n",
    "from pathlib import Path \n",
    "from pycelonis import get_celonis \n",
    "from pycelonis.pql import PQL, PQLColumn \n",
    "from pycelonis.ems import ExportType, JobType\n",
    "import os, pycelonis\n",
    "print(\"PyCelonis version:\", pycelonis.__version__)\n",
    "\n",
    "\n",
    "#If you followed this tutorial correctly, you should see something like the following printed in your console after running this module:\n",
    "\n",
    "#PyCelonis version: 2.11.0"
   ]
  },
  {
   "cell_type": "markdown",
   "metadata": {},
   "source": [
    "## Step 1: Define Environment Variables\n",
    "Replace the placeholders with your own details for the source and target environments.\n"
   ]
  },
  {
   "cell_type": "code",
   "execution_count": 10,
   "metadata": {},
   "outputs": [
    {
     "name": "stdout",
     "output_type": "stream",
     "text": [
      "Data directory: /Users/o.wu/owenfeature/pycelonis-examples/datamoverproject/data\n"
     ]
    }
   ],
   "source": [
    "import os, json\n",
    "from pycelonis import get_celonis\n",
    "from pathlib import Path\n",
    "\n",
    "#Steps for this module:\n",
    "\n",
    "#1. create a json file in the same directory and define the variables in the try block below (note that I have defined my file as config.json)\n",
    "#2. put the file name in config_path\n",
    "\n",
    "config_path = Path(\"config.json\")\n",
    "if config_path.is_file():\n",
    "    with open(config_path) as f:\n",
    "        config = json.load(f)\n",
    "else:\n",
    "    raise FileNotFoundError(\"Configuration file 'config.json' not found in the current directory.\")\n",
    "\n",
    "try:\n",
    "    source_data_pool_id = config[\"source_data_pool_id\"]\n",
    "    source_data_model_id = config[\"source_data_model_id\"]\n",
    "    source_url = config[\"source_url\"]\n",
    "    source_api_token = config[\"source_api_token\"]\n",
    "    target_data_pool_id = config[\"target_data_pool_id\"]\n",
    "    target_data_model_id = config[\"target_data_model_id\"]\n",
    "    target_url = config[\"target_url\"]\n",
    "    target_api_token = config[\"target_api_token\"]\n",
    "    data_dir = Path(config.get(\"data_dir\", Path().resolve() / \"data\"))\n",
    "except KeyError as e:\n",
    "    raise KeyError(f\"Missing required configuration key: {e}\")\n",
    "\n",
    "print(f\"Data directory: {data_dir}\")\n",
    "\n",
    "data_dir.mkdir(parents=True, exist_ok=True)\n",
    "\n",
    "#If you followed this tutorial correctly, you should see something like the following printed in your console after running this module:\n",
    "\n",
    "#Data directory: /Users/o.wu/owenfeature/pycelonis-examples/datamoverproject/data\n"
   ]
  },
  {
   "cell_type": "markdown",
   "metadata": {},
   "source": [
    "## Step 2: Download data from source environment\n"
   ]
  },
  {
   "cell_type": "code",
   "execution_count": 15,
   "metadata": {},
   "outputs": [
    {
     "name": "stderr",
     "output_type": "stream",
     "text": [
      "Your PyCelonis Version 2.11.0 is outdated (Newest Version: 2.11.1). Please upgrade the package via: pip install --extra-index-url=https://pypi.celonis.cloud/ pycelonis pycelonis_core --upgrade\n"
     ]
    },
    {
     "name": "stdout",
     "output_type": "stream",
     "text": [
      "Tables in this datamodel:\n",
      "newairqualityparquet\n"
     ]
    }
   ],
   "source": [
    "#this module has no steps - run the module\n",
    "\n",
    "celonis_from = get_celonis(base_url = source_url, api_token = source_api_token, permissions=False, key_type='APP_KEY') \n",
    "datapool_from = celonis_from.data_integration.get_data_pool(source_data_pool_id)\n",
    "datamodel_from = datapool_from.get_data_model(source_data_model_id)\n",
    "datamodel_from_tables = datamodel_from.get_tables()\n",
    "\n",
    "print(\"Tables in this datamodel:\")\n",
    "\n",
    "for table in datamodel_from_tables:\n",
    "    print(table.name) \n",
    "\n",
    "#if you followed this tutorial correctly, you should see something like the following printed in your console after running this module:\n",
    "\n",
    "#Tables in this datamodel:\n",
    "#newairqualityparquet\n"
   ]
  },
  {
   "cell_type": "markdown",
   "metadata": {},
   "source": [
    "## Step 3: Insert the tables you want to download"
   ]
  },
  {
   "cell_type": "code",
   "execution_count": 12,
   "metadata": {},
   "outputs": [
    {
     "name": "stdout",
     "output_type": "stream",
     "text": [
      "Added table:  newairqualityparquet\n",
      "name='datetime' length=19 type_='STRING' client=<pycelonis_core.client.client.Client object at 0x137c55b80> data_pool_id='7873300c-ba33-4c61-ac8f-4d912f7c0312' data_model_id='cd425ef4-6815-4360-b155-388d54eea294' table_name='newairqualityparquet' table_alias=None\n",
      "name='station_antwerp' length=15 type_='FLOAT' client=<pycelonis_core.client.client.Client object at 0x137c55b80> data_pool_id='7873300c-ba33-4c61-ac8f-4d912f7c0312' data_model_id='cd425ef4-6815-4360-b155-388d54eea294' table_name='newairqualityparquet' table_alias=None\n",
      "name='station_paris' length=15 type_='FLOAT' client=<pycelonis_core.client.client.Client object at 0x137c55b80> data_pool_id='7873300c-ba33-4c61-ac8f-4d912f7c0312' data_model_id='cd425ef4-6815-4360-b155-388d54eea294' table_name='newairqualityparquet' table_alias=None\n",
      "name='station_london' length=15 type_='FLOAT' client=<pycelonis_core.client.client.Client object at 0x137c55b80> data_pool_id='7873300c-ba33-4c61-ac8f-4d912f7c0312' data_model_id='cd425ef4-6815-4360-b155-388d54eea294' table_name='newairqualityparquet' table_alias=None\n",
      "name='_CELONIS_CHANGE_DATE' length=23 type_='DATE' client=<pycelonis_core.client.client.Client object at 0x137c55b80> data_pool_id='7873300c-ba33-4c61-ac8f-4d912f7c0312' data_model_id='cd425ef4-6815-4360-b155-388d54eea294' table_name='newairqualityparquet' table_alias=None\n",
      "Downloaded table: newairqualityparquet, chunk: 0\n"
     ]
    }
   ],
   "source": [
    "import json\n",
    "from pathlib import Path\n",
    "\n",
    "\n",
    "#Steps for this module:\n",
    "\n",
    "#1. create a file.json in the same directory with a different name from step above (note that I have defined my json file as tables_to_download.json)\n",
    "#2. input the json file name into the open method\n",
    "#3. specify the directory under data_dir\n",
    "\n",
    "with open(\"tables_to_download.json\", \"r\") as file:\n",
    "    config = json.load(file)\n",
    "    tables_from = config[\"table_names\"]\n",
    "\n",
    "tables_from_detail = []\n",
    "\n",
    "for i, Table in enumerate(tables_from):\n",
    "    table = datamodel_from_tables.find(Table)\n",
    "    if table:\n",
    "        tables_from_detail.append(table)\n",
    "        print(\"Added table: \", table.name)\n",
    "    else:\n",
    "        print(f\"Table '{Table}' not found in datamodel.\")\n",
    "\n",
    "data_dir = Path(\"./data\")  \n",
    "data_dir.mkdir(parents=True, exist_ok=True)\n",
    "\n",
    "def download_table_data(table):\n",
    "    table_name = table.name\n",
    "    query = PQL(distinct=False, limit=None)\n",
    "    for column in table.get_columns():\n",
    "        print(column)\n",
    "        col_name = column.name\n",
    "        if col_name != '_CELONIS_CHANGE_DATE':\n",
    "            query += PQLColumn(name=col_name, query=f'\"{table_name}\".\"{col_name}\"')\n",
    "\n",
    "    data_export = datamodel_from.create_data_export(query=query, export_type=ExportType.PARQUET)\n",
    "    data_export.wait_for_execution()\n",
    "\n",
    "    for i, chunk in enumerate(data_export.get_chunks()):  \n",
    "        file_path = data_dir / f\"{table_name}_{i}.parquet\"\n",
    "        with open(file_path, \"wb\") as file:\n",
    "            file.write(chunk.read())\n",
    "        print(f\"Downloaded table: {table_name}, chunk: {i}\")\n",
    "\n",
    "for table in tables_from_detail:\n",
    "    download_table_data(table) \n",
    "\n",
    "#if you followed this tutorial correctly, you should see something like the following printed in your console after running this module:\n",
    "\n",
    "#Added table: newairqualityparquet\n",
    "\n"
   ]
  },
  {
   "cell_type": "markdown",
   "metadata": {},
   "source": [
    "## Step 6: Upload Data to Target Environment\n"
   ]
  },
  {
   "cell_type": "code",
   "execution_count": 16,
   "metadata": {},
   "outputs": [
    {
     "name": "stderr",
     "output_type": "stream",
     "text": [
      "Your PyCelonis Version 2.11.0 is outdated (Newest Version: 2.11.1). Please upgrade the package via: pip install --extra-index-url=https://pypi.celonis.cloud/ pycelonis pycelonis_core --upgrade\n"
     ]
    },
    {
     "name": "stdout",
     "output_type": "stream",
     "text": [
      "28050e78-1a20-417e-9f21-c6185c1505ba\n",
      "Uploaded table: newairqualityparquet\n"
     ]
    }
   ],
   "source": [
    "import os\n",
    "\n",
    "#Steps for this module:\n",
    "\n",
    "#1. define the local path where your parquet file inside of parquet_file_path\n",
    "\n",
    "parquet_file_path = \"/Users/o.wu/Downloads/newairqualityparquet.parquet\"\n",
    "\n",
    "celonis_to = get_celonis(base_url=target_url, api_token=target_api_token, permissions=False, key_type='APP_KEY')\n",
    "datapool_to = celonis_to.data_integration.get_data_pool(target_data_pool_id)\n",
    "print(datapool_to.id)\n",
    "\n",
    "#2. define your table names inside of table_names (note that the table I will upload is called \"newairqualityparquet\")\n",
    "\n",
    "table_names = [\"newairqualityparquet\"]  \n",
    "for table in table_names:\n",
    "    data_push_job = datapool_to.create_data_push_job(target_name=table, type_=JobType.REPLACE)\n",
    "    \n",
    "    with open(parquet_file_path, \"rb\") as file:\n",
    "        data_push_job.add_file_chunk(file)\n",
    "        data_push_job.execute(wait=True)  \n",
    "    \n",
    "    print(f\"Uploaded table: {table}\")\n",
    "\n",
    "\n",
    "#if you followed this tutorial correctly, you should see something like the following printed in your console after running this module:\n",
    "\n",
    "\n",
    "#TableID\n",
    "\n",
    "#Uploaded table: newairqualityparquet\n",
    "\n"
   ]
  },
  {
   "cell_type": "markdown",
   "metadata": {},
   "source": [
    "## Notes\n",
    "- **User Instructions**: Update variables in each section as per your environment’s requirements.\n",
    "- **Modularity**: Functions for downloading and uploading tables improve reusability.\n",
    "- **Logs and Feedback**: Each major step includes feedback, so the user knows the status of each operation.\n"
   ]
  }
 ],
 "metadata": {
  "kernelspec": {
   "display_name": "Python 3 (ipykernel)",
   "language": "python",
   "name": "python3"
  },
  "language_info": {
   "codemirror_mode": {
    "name": "ipython",
    "version": 3
   },
   "file_extension": ".py",
   "mimetype": "text/x-python",
   "name": "python",
   "nbconvert_exporter": "python",
   "pygments_lexer": "ipython3",
   "version": "3.9.6"
  }
 },
 "nbformat": 4,
 "nbformat_minor": 4
}
