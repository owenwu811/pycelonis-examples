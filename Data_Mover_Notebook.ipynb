{
 "cells": [
  {
   "cell_type": "markdown",
   "metadata": {},
   "source": [
    "# Data Mover Notebook \n",
    "## Prerequisites:\n",
    "- Python 3.8\n",
    "- PyCelonis 2.0 or later"
   ]
  },
  {
   "cell_type": "code",
   "execution_count": null,
   "metadata": {},
   "outputs": [
    {
     "name": "stdout",
     "output_type": "stream",
     "text": [
      "\u001b[33mDEPRECATION: Configuring installation scheme with distutils config files is deprecated and will no longer work in the near future. If you are using a Homebrew or Linuxbrew Python, please see discussion at https://github.com/Homebrew/homebrew-core/issues/76621\u001b[0m\u001b[33m\n",
      "\u001b[0mRequirement already satisfied: pip in /opt/homebrew/lib/python3.8/site-packages (24.3.1)\n",
      "\u001b[33mDEPRECATION: Configuring installation scheme with distutils config files is deprecated and will no longer work in the near future. If you are using a Homebrew or Linuxbrew Python, please see discussion at https://github.com/Homebrew/homebrew-core/issues/76621\u001b[0m\u001b[33m\n",
      "\u001b[0m\u001b[33mDEPRECATION: Configuring installation scheme with distutils config files is deprecated and will no longer work in the near future. If you are using a Homebrew or Linuxbrew Python, please see discussion at https://github.com/Homebrew/homebrew-core/issues/76621\u001b[0m\u001b[33m\n",
      "\u001b[0m\u001b[31mERROR: Could not find a version that satisfies the requirement pycelonis (from versions: none)\u001b[0m\u001b[31m\n",
      "\u001b[0m\u001b[31mERROR: No matching distribution found for pycelonis\u001b[0m\u001b[31m\n",
      "\u001b[0mPyCelonis version: 2.11.0\n"
     ]
    }
   ],
   "source": [
    "#Please Note: If you see the following error in your console after each exercise, you may simply ignore it:\n",
    "\n",
    "#Your PyCelonis Version 2.11.0 is outdated (Newest Version: 2.11.1). Please upgrade the package via: pip install --extra-index-url=https://pypi.celonis.cloud/ pycelonis pycelonis_core --upgrade\n",
    "\n",
    "\n",
    "#Steps for this module\n",
    "\n",
    "#1.run the following command inside of your terminal - !python3.8 -m pip install --upgrade pip \n",
    "\n",
    "!python3.8 -m pip install --upgrade pip \n",
    "!pip install --upgrade pycelonis\n",
    "\n",
    "from pathlib import Path \n",
    "from pycelonis import get_celonis \n",
    "from pycelonis.pql import PQL, PQLColumn \n",
    "from pycelonis.ems import ExportType, JobType\n",
    "import os, pycelonis\n",
    "\n",
    "\n",
    "#If you followed this tutorial correctly, you should see something like the following printed in your console after running this module:\n",
    "\n",
    "#PyCelonis version: 2.11.0"
   ]
  },
  {
   "cell_type": "markdown",
   "metadata": {},
   "source": [
    "## Step 1: Define Environment Variables\n",
    "Replace the placeholders with your own details for the source and target environments.\n"
   ]
  },
  {
   "cell_type": "code",
   "execution_count": null,
   "metadata": {},
   "outputs": [
    {
     "name": "stdout",
     "output_type": "stream",
     "text": [
      "Data directory: /Users/o.wu/owenfeature/pycelonis-examples/datamoverproject/data\n"
     ]
    }
   ],
   "source": [
    "# Required imports\n",
    "import os\n",
    "from pycelonis import get_celonis\n",
    "from pathlib import Path\n",
    "\n",
    "# Define the necessary configuration variables directly in the code\n",
    "source_data_pool_id = \"id of the source data pool that you are going to use to pull data from\"\n",
    "source_data_model_id = \"id of the source data model\"\n",
    "source_url = \"source Celonis URL\"\n",
    "source_api_token = \"source Celonis API token\"\n",
    "target_data_pool_id = \"id of the target data pool where the data will be moved\"\n",
    "target_data_model_id = \"id of the target data model\"\n",
    "target_url = \"target Celonis URL\"\n",
    "target_api_token = \"target Celonis API token\"\n",
    "data_dir = \"directory that you want to save the tables\"\n",
    "\n",
    "# Initialize the Celonis connection\n",
    "c = get_celonis(url=source_url, api_token=source_api_token)\n",
    "\n",
    "# Define the list of tables to pull\n",
    "tables_to_pull = [\"newairqualityparquet\", \"another_table_name\", \"more_table_names\"]\n",
    "\n",
    "# Directory to save pulled data\n",
    "data_dir = Path(data_dir)\n",
    "data_dir.mkdir(parents=True, exist_ok=True)\n",
    "\n",
    "# Print the data directory path (optional)\n",
    "print(f\"Data will be saved to: {data_dir}\")\n"
   ]
  },
  {
   "cell_type": "markdown",
   "metadata": {},
   "source": [
    "## Step 2: Download data from source environment\n"
   ]
  },
  {
   "cell_type": "code",
   "execution_count": null,
   "metadata": {},
   "outputs": [
    {
     "name": "stderr",
     "output_type": "stream",
     "text": [
      "Your PyCelonis Version 2.11.0 is outdated (Newest Version: 2.11.1). Please upgrade the package via: pip install --extra-index-url=https://pypi.celonis.cloud/ pycelonis pycelonis_core --upgrade\n"
     ]
    },
    {
     "name": "stdout",
     "output_type": "stream",
     "text": [
      "Tables in this datamodel:\n",
      "newairqualityparquet\n"
     ]
    }
   ],
   "source": [
    "# Import necessary libraries\n",
    "from pycelonis import get_celonis\n",
    "from pathlib import Path\n",
    "\n",
    "# Define your source data pool and model details directly (instead of using a config file)\n",
    "source_url = \"https://your-celonis-instance-url\"\n",
    "source_api_token = \"your-api-token\"\n",
    "source_data_pool_id = \"id_of_the_source_data_pool\"\n",
    "source_data_model_id = \"id_of_the_source_data_model\"\n",
    "\n",
    "# Connect to the source Celonis instance using the provided URL and API token\n",
    "celonis_from = get_celonis(base_url=source_url, api_token=source_api_token, permissions=False, key_type='APP_KEY')\n",
    "\n",
    "# Retrieve the data pool and data model\n",
    "datapool_from = celonis_from.data_integration.get_data_pool(source_data_pool_id)\n",
    "datamodel_from = datapool_from.get_data_model(source_data_model_id)\n",
    "\n",
    "# Get all the tables in the data model\n",
    "datamodel_from_tables = datamodel_from.get_tables()\n",
    "\n",
    "# Print the names of all the tables in the data model\n",
    "print(\"Tables in this datamodel:\")\n",
    "for table in datamodel_from_tables:\n",
    "    print(table.name)\n"
   ]
  },
  {
   "cell_type": "markdown",
   "metadata": {},
   "source": [
    "## Step 3: Insert the tables you want to download"
   ]
  },
  {
   "cell_type": "code",
   "execution_count": null,
   "metadata": {},
   "outputs": [
    {
     "name": "stdout",
     "output_type": "stream",
     "text": [
      "Added table:  newairqualityparquet\n",
      "name='datetime' length=19 type_='STRING' client=<pycelonis_core.client.client.Client object at 0x137c55b80> data_pool_id='7873300c-ba33-4c61-ac8f-4d912f7c0312' data_model_id='cd425ef4-6815-4360-b155-388d54eea294' table_name='newairqualityparquet' table_alias=None\n",
      "name='station_antwerp' length=15 type_='FLOAT' client=<pycelonis_core.client.client.Client object at 0x137c55b80> data_pool_id='7873300c-ba33-4c61-ac8f-4d912f7c0312' data_model_id='cd425ef4-6815-4360-b155-388d54eea294' table_name='newairqualityparquet' table_alias=None\n",
      "name='station_paris' length=15 type_='FLOAT' client=<pycelonis_core.client.client.Client object at 0x137c55b80> data_pool_id='7873300c-ba33-4c61-ac8f-4d912f7c0312' data_model_id='cd425ef4-6815-4360-b155-388d54eea294' table_name='newairqualityparquet' table_alias=None\n",
      "name='station_london' length=15 type_='FLOAT' client=<pycelonis_core.client.client.Client object at 0x137c55b80> data_pool_id='7873300c-ba33-4c61-ac8f-4d912f7c0312' data_model_id='cd425ef4-6815-4360-b155-388d54eea294' table_name='newairqualityparquet' table_alias=None\n",
      "name='_CELONIS_CHANGE_DATE' length=23 type_='DATE' client=<pycelonis_core.client.client.Client object at 0x137c55b80> data_pool_id='7873300c-ba33-4c61-ac8f-4d912f7c0312' data_model_id='cd425ef4-6815-4360-b155-388d54eea294' table_name='newairqualityparquet' table_alias=None\n",
      "Downloaded table: newairqualityparquet, chunk: 0\n"
     ]
    }
   ],
   "source": [
    "from pathlib import Path\n",
    "\n",
    "# Directly define the list of tables you want to download (instead of reading from a file)\n",
    "tables_to_download = [\"newairqualityparquet\"]\n",
    "\n",
    "tables_from_detail = []\n",
    "\n",
    "# Assuming datamodel_from_tables is already defined\n",
    "for table_name in tables_to_download:\n",
    "    table = datamodel_from_tables.find(table_name)\n",
    "    if table:\n",
    "        tables_from_detail.append(table)\n",
    "        print(\"Added table:\", table.name)\n",
    "    else:\n",
    "        print(f\"Table '{table_name}' not found in datamodel.\")\n",
    "\n",
    "# Define the directory for saving parquet files\n",
    "data_dir = Path(\"./data\")\n",
    "data_dir.mkdir(parents=True, exist_ok=True)\n",
    "\n",
    "# Function to download table data and save as Parquet\n",
    "def download_table_data(table):\n",
    "    table_name = table.name\n",
    "    query = PQL(distinct=False, limit=None)\n",
    "    for column in table.get_columns():\n",
    "        col_name = column.name\n",
    "        if col_name != '_CELONIS_CHANGE_DATE':  # Skip the _CELONIS_CHANGE_DATE column\n",
    "            query += PQLColumn(name=col_name, query=f'\"{table_name}\".\"{col_name}\"')\n",
    "\n",
    "    data_export = datamodel_from.create_data_export(query=query, export_type=ExportType.PARQUET)\n",
    "    data_export.wait_for_execution()\n",
    "\n",
    "    for i, chunk in enumerate(data_export.get_chunks()):\n",
    "        file_path = data_dir / f\"{table_name}_{i}.parquet\"\n",
    "        with open(file_path, \"wb\") as file:\n",
    "            file.write(chunk.read())\n",
    "        print(f\"Downloaded table: {table_name}, chunk: {i}\")\n",
    "\n",
    "# Download the data for each table in the list\n",
    "for table in tables_from_detail:\n",
    "    download_table_data(table)\n",
    "\n",
    "# Final message after completion\n",
    "print(\"Conversion to Parquet completed.\")"
   ]
  },
  {
   "cell_type": "markdown",
   "metadata": {},
   "source": [
    "## Step 6: Upload Data to Target Environment\n"
   ]
  },
  {
   "cell_type": "code",
   "execution_count": null,
   "metadata": {},
   "outputs": [
    {
     "name": "stderr",
     "output_type": "stream",
     "text": [
      "Your PyCelonis Version 2.11.0 is outdated (Newest Version: 2.11.1). Please upgrade the package via: pip install --extra-index-url=https://pypi.celonis.cloud/ pycelonis pycelonis_core --upgrade\n"
     ]
    },
    {
     "name": "stdout",
     "output_type": "stream",
     "text": [
      "28050e78-1a20-417e-9f21-c6185c1505ba\n",
      "Uploaded table: newairqualityparquet\n"
     ]
    }
   ],
   "source": [
    "from pycelonis import get_celonis\n",
    "\n",
    "# Define the local path for your Parquet file\n",
    "parquet_file_path = \"/Users/o.wu/Downloads/newairqualityparquet.parquet\"\n",
    "\n",
    "# Define the target Celonis environment\n",
    "celonis_to = get_celonis(base_url=target_url, api_token=target_api_token, permissions=False, key_type='APP_KEY')\n",
    "datapool_to = celonis_to.data_integration.get_data_pool(target_data_pool_id)\n",
    "\n",
    "# Define the table names you want to upload\n",
    "table_names = [\"newairqualityparquet\"]\n",
    "\n",
    "# Upload each table to Celonis\n",
    "for table in table_names:\n",
    "    data_push_job = datapool_to.create_data_push_job(target_name=table, type_=JobType.REPLACE)\n",
    "    \n",
    "    # Open the Parquet file and add it to the data push job\n",
    "    with open(parquet_file_path, \"rb\") as file:\n",
    "        data_push_job.add_file_chunk(file)\n",
    "        data_push_job.execute(wait=True)\n",
    "    \n",
    "    print(f\"Uploaded table: {table}\")\n",
    "\n",
    "# Final message after completion\n",
    "print(\"Parquet upload completed.\")"
   ]
  },
  {
   "cell_type": "markdown",
   "metadata": {},
   "source": [
    "## Notes\n",
    "- **User Instructions**: Update variables in each section as per your environment’s requirements.\n",
    "- **Modularity**: Functions for downloading and uploading tables improve reusability.\n",
    "- **Logs and Feedback**: Each major step includes feedback, so the user knows the status of each operation.\n"
   ]
  }
 ],
 "metadata": {
  "kernelspec": {
   "display_name": "Python 3 (ipykernel)",
   "language": "python",
   "name": "python3"
  },
  "language_info": {
   "codemirror_mode": {
    "name": "ipython",
    "version": 3
   },
   "file_extension": ".py",
   "mimetype": "text/x-python",
   "name": "python",
   "nbconvert_exporter": "python",
   "pygments_lexer": "ipython3",
   "version": "3.9.6"
  }
 },
 "nbformat": 4,
 "nbformat_minor": 4
}
