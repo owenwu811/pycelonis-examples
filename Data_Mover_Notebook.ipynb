{
 "cells": [
  {
   "cell_type": "markdown",
   "metadata": {},
   "source": [
    "# Data Mover Notebook (Generalized Version)\n",
    "## Prerequisites:\n",
    "- Python 3.8\n",
    "- PyCelonis 2.0 or later"
   ]
  },
  {
   "cell_type": "code",
   "execution_count": 2,
   "metadata": {},
   "outputs": [
    {
     "name": "stdout",
     "output_type": "stream",
     "text": [
      "\u001b[33mDEPRECATION: Configuring installation scheme with distutils config files is deprecated and will no longer work in the near future. If you are using a Homebrew or Linuxbrew Python, please see discussion at https://github.com/Homebrew/homebrew-core/issues/76621\u001b[0m\u001b[33m\n",
      "\u001b[0mRequirement already satisfied: pip in /opt/homebrew/lib/python3.8/site-packages (24.3.1)\n",
      "\u001b[33mDEPRECATION: Configuring installation scheme with distutils config files is deprecated and will no longer work in the near future. If you are using a Homebrew or Linuxbrew Python, please see discussion at https://github.com/Homebrew/homebrew-core/issues/76621\u001b[0m\u001b[33m\n",
      "\u001b[0m\u001b[31mERROR: Could not find a version that satisfies the requirement pycelonis (from versions: none)\u001b[0m\n",
      "\u001b[31mERROR: No matching distribution found for pycelonis\u001b[0m\n",
      "\u001b[33mWARNING: You are using pip version 21.2.4; however, version 24.3.1 is available.\n",
      "You should consider upgrading via the '/Users/o.wu/venv/bin/python3 -m pip install --upgrade pip' command.\u001b[0m\n",
      "PyCelonis version: 2.11.0\n"
     ]
    }
   ],
   "source": [
    "# Install and import required packages\n",
    "!python3.8 -m pip install --upgrade pip #run this command inside of your terminal\n",
    "!pip install --upgrade pycelonis\n",
    "\n",
    "from pathlib import Path #import Path class from pathlib module (part of standard library)\n",
    "from pycelonis import get_celonis #import the get)celonis() method from pycelonis package\n",
    "from pycelonis.pql import PQL, PQLColumn #PQL and PQLColumn classes imported from pycelonis.pql package path\n",
    "from pycelonis.ems import ExportType, JobType\n",
    "import os #library from core python\n",
    "\n",
    "# Verify PyCelonis version\n",
    "import pycelonis\n",
    "print(\"PyCelonis version:\", pycelonis.__version__)\n"
   ]
  },
  {
   "cell_type": "markdown",
   "metadata": {},
   "source": [
    "## Step 1: Define Environment Variables\n",
    "Replace the placeholders with your own details for the source and target environments.\n"
   ]
  },
  {
   "cell_type": "code",
   "execution_count": 6,
   "metadata": {},
   "outputs": [
    {
     "name": "stdout",
     "output_type": "stream",
     "text": [
      "Data directory: /Users/o.wu/Desktop/datamoverproject/data\n"
     ]
    }
   ],
   "source": [
    "\n",
    "\n",
    "import os\n",
    "from pycelonis import get_celonis\n",
    "import json\n",
    "from pathlib import Path\n",
    "\n",
    "# Load configuration from JSON file\n",
    "config_path = Path(\"config.json\")\n",
    "if config_path.is_file():\n",
    "    with open(config_path) as f:\n",
    "        config = json.load(f)\n",
    "else:\n",
    "    raise FileNotFoundError(\"Configuration file 'config.json' not found in the current directory.\")\n",
    "\n",
    "# Fetch values from config file, throw error if any required field is missing\n",
    "try:\n",
    "    source_data_pool_id = config[\"source_data_pool_id\"]\n",
    "    source_data_model_id = config[\"source_data_model_id\"]\n",
    "    source_url = config[\"source_url\"]\n",
    "    source_api_token = config[\"source_api_token\"]\n",
    "\n",
    "\n",
    "    data_dir = Path(config.get(\"data_dir\", Path().resolve() / \"data\"))\n",
    "except KeyError as e:\n",
    "    raise KeyError(f\"Missing required configuration key: {e}\")\n",
    "\n",
    "print(f\"Data directory: {data_dir}\")\n",
    "\n",
    "# Automatically create the data directory if it doesn't exist\n",
    "data_dir.mkdir(parents=True, exist_ok=True)\n",
    "\n",
    "\n",
    "\n",
    "\n"
   ]
  },
  {
   "cell_type": "markdown",
   "metadata": {},
   "source": [
    "## Step 2: Connect to Source and Target Environments\n"
   ]
  },
  {
   "cell_type": "code",
   "execution_count": 7,
   "metadata": {},
   "outputs": [
    {
     "name": "stdout",
     "output_type": "stream",
     "text": [
      "Tables in this datamodel:\n",
      "air_quality_no2\n"
     ]
    }
   ],
   "source": [
    "celonis_from = get_celonis(base_url = source_url, api_token = source_api_token, permissions=False, key_type='APP_KEY') #, key_type='USER_KEY'\n",
    "\n",
    "datapool_from = celonis_from.data_integration.get_data_pool(source_data_pool_id)\n",
    "datamodel_from = datapool_from.get_data_model(source_data_model_id)\n",
    "datamodel_from_tables = datamodel_from.get_tables()\n",
    "\n",
    "print(\"Tables in this datamodel:\")\n",
    "for tables in datamodel_from_tables:\n",
    "    print(tables.name)   \n"
   ]
  },
  {
   "cell_type": "markdown",
   "metadata": {},
   "source": [
    "## Step 3: List Available Tables in Source Data Model\n"
   ]
  },
  {
   "cell_type": "code",
   "execution_count": 57,
   "metadata": {},
   "outputs": [
    {
     "ename": "NameError",
     "evalue": "name 'widgets' is not defined",
     "output_type": "error",
     "traceback": [
      "\u001b[0;31m---------------------------------------------------------------------------\u001b[0m",
      "\u001b[0;31mNameError\u001b[0m                                 Traceback (most recent call last)",
      "Cell \u001b[0;32mIn[57], line 5\u001b[0m\n\u001b[1;32m      1\u001b[0m \u001b[38;5;66;03m#import ipywidgets as widgets\u001b[39;00m\n\u001b[1;32m      2\u001b[0m \u001b[38;5;66;03m#from IPython.display import display\u001b[39;00m\n\u001b[1;32m      3\u001b[0m \n\u001b[1;32m      4\u001b[0m \u001b[38;5;66;03m# Button to trigger listing tables\u001b[39;00m\n\u001b[0;32m----> 5\u001b[0m list_tables_button \u001b[38;5;241m=\u001b[39m \u001b[43mwidgets\u001b[49m\u001b[38;5;241m.\u001b[39mButton(description\u001b[38;5;241m=\u001b[39m\u001b[38;5;124m\"\u001b[39m\u001b[38;5;124mList Tables in Source Data Model\u001b[39m\u001b[38;5;124m\"\u001b[39m)\n\u001b[1;32m      6\u001b[0m output_tables \u001b[38;5;241m=\u001b[39m widgets\u001b[38;5;241m.\u001b[39mOutput()\n\u001b[1;32m      8\u001b[0m \u001b[38;5;28;01mdef\u001b[39;00m \u001b[38;5;21mlist_tables\u001b[39m(b):\n",
      "\u001b[0;31mNameError\u001b[0m: name 'widgets' is not defined"
     ]
    }
   ],
   "source": [
    "#import ipywidgets as widgets\n",
    "#from IPython.display import display\n",
    "\n",
    "# Button to trigger listing tables\n",
    "list_tables_button = widgets.Button(description=\"List Tables in Source Data Model\")\n",
    "output_tables = widgets.Output()\n",
    "\n",
    "def list_tables(b):\n",
    "    with output_tables:\n",
    "        output_tables.clear_output()  # Clear previous output\n",
    "        \n",
    "        # Retrieve and display tables in the source data model\n",
    "        try:\n",
    "            datamodel_from_tables = datamodel_from.get_tables()\n",
    "            table_names = [table.name for table in datamodel_from_tables]\n",
    "\n",
    "            # Display dropdown for table selection\n",
    "            table_dropdown = widgets.Dropdown(\n",
    "                options=table_names,\n",
    "                description='Tables:',\n",
    "                disabled=False,\n",
    "            )\n",
    "            \n",
    "            print(\"Tables available in the source data model:\")\n",
    "            display(table_dropdown)\n",
    "        except Exception as e:\n",
    "            #throw error otherwise\n",
    "            print(f\"Error retrieving tables: {e}\")\n",
    "\n",
    "# Set up button action\n",
    "list_tables_button.on_click(list_tables)\n",
    "\n",
    "# Display the button and output area\n",
    "display(list_tables_button, output_tables)\n",
    "\n",
    "\n",
    "\n"
   ]
  },
  {
   "cell_type": "markdown",
   "metadata": {},
   "source": [
    "## Step 4: Specify Tables to Download from Source\n",
    "Enter the names of the tables you want to download.\n"
   ]
  },
  {
   "cell_type": "code",
   "execution_count": null,
   "metadata": {},
   "outputs": [],
   "source": [
    "# Specify the tables to download from the source\n",
    "tables_to_download = [\"Activity_Table_Demo\", \"Case_Table_Demo\"]  # Update as needed\n",
    "tables_from_detail = [datamodel_from_tables.find(table) for table in tables_to_download] #liste comprehension syntax\n",
    "\n",
    "print(\"Tables to be downloaded:\")\n",
    "for table in tables_from_detail: #iterate through the array and print the name of each table \n",
    "    print(table.name) #print name attribute \n"
   ]
  },
  {
   "cell_type": "markdown",
   "metadata": {},
   "source": [
    "## Step 5: Download Data from Source Environment\n"
   ]
  },
  {
   "cell_type": "code",
   "execution_count": 2,
   "metadata": {},
   "outputs": [
    {
     "ename": "NameError",
     "evalue": "name 'tables_from_detail' is not defined",
     "output_type": "error",
     "traceback": [
      "\u001b[0;31m---------------------------------------------------------------------------\u001b[0m",
      "\u001b[0;31mNameError\u001b[0m                                 Traceback (most recent call last)",
      "Cell \u001b[0;32mIn[2], line 21\u001b[0m\n\u001b[1;32m     18\u001b[0m             file\u001b[38;5;241m.\u001b[39mwrite(chunk\u001b[38;5;241m.\u001b[39mread())\n\u001b[1;32m     19\u001b[0m         \u001b[38;5;28mprint\u001b[39m(\u001b[38;5;124mf\u001b[39m\u001b[38;5;124m\"\u001b[39m\u001b[38;5;124mDownloaded table: \u001b[39m\u001b[38;5;132;01m{\u001b[39;00mtable_name\u001b[38;5;132;01m}\u001b[39;00m\u001b[38;5;124m, chunk: \u001b[39m\u001b[38;5;132;01m{\u001b[39;00mi\u001b[38;5;132;01m}\u001b[39;00m\u001b[38;5;124m\"\u001b[39m)\n\u001b[0;32m---> 21\u001b[0m \u001b[38;5;28;01mfor\u001b[39;00m table \u001b[38;5;129;01min\u001b[39;00m \u001b[43mtables_from_detail\u001b[49m:\n\u001b[1;32m     22\u001b[0m     download_table_data(table)\n",
      "\u001b[0;31mNameError\u001b[0m: name 'tables_from_detail' is not defined"
     ]
    }
   ],
   "source": [
    "# Function to download data from source and save it locally as Parquet files\n",
    "def download_table_data(table):\n",
    "    table_name = table.name\n",
    "    query = PQL(distinct=False, limit=None)\n",
    "    for column in table.get_columns():\n",
    "        print(column)\n",
    "        col_name = column.name\n",
    "        if col_name != '_CELONIS_CHANGE_DATE':\n",
    "            query += PQLColumn(name=col_name, query=f'\"{table_name}\".\"{col_name}\"')\n",
    "\n",
    "    # Create export and download data as Parquet files\n",
    "    data_export = datamodel_from.create_data_export(query=query, export_type=ExportType.PARQUET)\n",
    "    data_export.wait_for_execution()\n",
    "\n",
    "    for i, chunk in enumerate(data_export.get_chunks()): #index, object itself\n",
    "        file_path = data_dir / f\"{table_name}_{i}.parquet\"\n",
    "        with open(file_path, \"wb\") as file:\n",
    "            file.write(chunk.read())\n",
    "        print(f\"Downloaded table: {table_name}, chunk: {i}\")\n",
    "\n",
    "for table in tables_from_detail:\n",
    "    download_table_data(table)\n"
   ]
  },
  {
   "cell_type": "markdown",
   "metadata": {},
   "source": [
    "## Step 6: Upload Data to Target Environment\n"
   ]
  },
  {
   "cell_type": "code",
   "execution_count": null,
   "metadata": {},
   "outputs": [],
   "source": [
    "# List files to upload (ensure that only downloaded parquet files are included)\n",
    "table_files = [f for f in os.listdir(data_dir) if f.endswith('.parquet')]\n",
    "\n",
    "# Function to upload data to target environment\n",
    "def upload_table_data(file_name):\n",
    "    table_name = file_name.split(\".\")[0]\n",
    "    data_push_job = datapool_to.create_data_push_job(target_name=table_name, type_=JobType.REPLACE)\n",
    "\n",
    "    with open(data_dir / file_name, \"rb\") as file:\n",
    "        data_push_job.add_file_chunk(file)\n",
    "\n",
    "    data_push_job.execute(wait=True)\n",
    "    print(f\"Uploaded table: {table_name}\")\n",
    "\n",
    "for file_name in table_files:\n",
    "    upload_table_data(file_name)\n"
   ]
  },
  {
   "cell_type": "markdown",
   "metadata": {},
   "source": [
    "## Step 7: Add Uploaded Tables to Target Data Model (Optional)\n",
    "If a target data model is specified, add the tables to it.\n"
   ]
  },
  {
   "cell_type": "code",
   "execution_count": null,
   "metadata": {},
   "outputs": [],
   "source": [
    "if target_data_model_id: #if the target data model id exists and is not Null, then do the following\n",
    "    datamodel_to = datapool_to.get_data_model(target_data_model_id)\n",
    "    for file_name in table_files: #iterate over the table_files list\n",
    "        table_name = file_name.split(\".\")[0]\n",
    "        datamodel_to.add_table(name=table_name)\n",
    "    datamodel_to.reload()\n",
    "    print(\"Tables added to target data model and reloaded.\")\n"
   ]
  },
  {
   "cell_type": "markdown",
   "metadata": {},
   "source": [
    "## Notes\n",
    "- **User Instructions**: Update variables in each section as per your environment’s requirements.\n",
    "- **Modularity**: Functions for downloading and uploading tables improve reusability.\n",
    "- **Logs and Feedback**: Each major step includes feedback, so the user knows the status of each operation.\n"
   ]
  }
 ],
 "metadata": {
  "kernelspec": {
   "display_name": "Python 3 (ipykernel)",
   "language": "python",
   "name": "python3"
  },
  "language_info": {
   "codemirror_mode": {
    "name": "ipython",
    "version": 3
   },
   "file_extension": ".py",
   "mimetype": "text/x-python",
   "name": "python",
   "nbconvert_exporter": "python",
   "pygments_lexer": "ipython3",
   "version": "3.9.6"
  }
 },
 "nbformat": 4,
 "nbformat_minor": 4
}
